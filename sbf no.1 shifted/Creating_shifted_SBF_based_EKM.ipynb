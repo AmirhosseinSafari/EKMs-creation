{
  "cells": [
    {
      "cell_type": "markdown",
      "metadata": {
        "id": "2YkrqwA5iA1c"
      },
      "source": [
        "# Purpose\n",
        "Creating EKMs with shifted amount of elements"
      ]
    },
    {
      "cell_type": "markdown",
      "metadata": {
        "id": "0ZGs2cPRiPSV"
      },
      "source": [
        "# Imports and installations"
      ]
    },
    {
      "cell_type": "code",
      "execution_count": null,
      "metadata": {
        "id": "-JlhPlnU20vx"
      },
      "outputs": [],
      "source": [
        "! pip install biosignalsnotebooks"
      ]
    },
    {
      "cell_type": "code",
      "execution_count": null,
      "metadata": {
        "id": "dSPsOMzFwDWx"
      },
      "outputs": [],
      "source": [
        "! pip install wfdb"
      ]
    },
    {
      "cell_type": "code",
      "execution_count": null,
      "metadata": {
        "id": "XvX11Dtt95Go"
      },
      "outputs": [],
      "source": [
        "! pip3 install ishneholterlib"
      ]
    },
    {
      "cell_type": "code",
      "execution_count": null,
      "metadata": {
        "id": "ebSCyrGSuzwN"
      },
      "outputs": [],
      "source": [
        "! wget http://thew-project.org/document/1-300mECG.zip\n",
        "! unzip /content/1-300mECG.zip"
      ]
    },
    {
      "cell_type": "code",
      "execution_count": null,
      "metadata": {
        "id": "G7ChRd8J7e3L"
      },
      "outputs": [],
      "source": [
        "# Imports\n",
        "import numpy as np\n",
        "import matplotlib.pyplot as plt\n",
        "import biosignalsnotebooks as bsnb\n",
        "from scipy.signal import detrend\n",
        "import seaborn as sns"
      ]
    },
    {
      "cell_type": "code",
      "execution_count": 6,
      "metadata": {
        "id": "fdmhBnmTuqqI"
      },
      "outputs": [],
      "source": [
        "from ishneholterlib import Holter\n",
        "import numpy as np"
      ]
    },
    {
      "cell_type": "code",
      "execution_count": 7,
      "metadata": {
        "id": "iMqjuykaIfB5"
      },
      "outputs": [],
      "source": [
        "import os\n",
        "from datetime import datetime\n",
        "from PIL import Image\n",
        "import random"
      ]
    },
    {
      "cell_type": "code",
      "execution_count": 8,
      "metadata": {
        "id": "BFEsxSQdyyv5"
      },
      "outputs": [],
      "source": [
        "import cv2"
      ]
    },
    {
      "cell_type": "code",
      "execution_count": null,
      "metadata": {
        "id": "ulniyG3uGsPg"
      },
      "outputs": [],
      "source": [
        "! rm -r EKM_dataset_big_EKM/\n",
        "! rm -r EKM_dataset/"
      ]
    },
    {
      "cell_type": "code",
      "execution_count": 10,
      "metadata": {
        "id": "hdrdfkjfu9Cj"
      },
      "outputs": [],
      "source": [
        "# DON'T RUN!\n",
        "! mkdir EKM_dataset\n",
        "! mkdir EKM_dataset/x_lead\n",
        "! mkdir EKM_dataset/y_lead\n",
        "! mkdir EKM_dataset/z_lead"
      ]
    },
    {
      "cell_type": "code",
      "execution_count": 11,
      "metadata": {
        "id": "QcfNLpvn_yR2"
      },
      "outputs": [],
      "source": [
        "! mkdir EKM_dataset_big_EKM\n",
        "! mkdir EKM_dataset_big_EKM/x_lead\n",
        "! mkdir EKM_dataset_big_EKM/y_lead\n",
        "! mkdir EKM_dataset_big_EKM/z_lead"
      ]
    },
    {
      "cell_type": "code",
      "execution_count": 12,
      "metadata": {
        "id": "ZgZNEmHGwPSv"
      },
      "outputs": [],
      "source": [
        "import shutil"
      ]
    },
    {
      "cell_type": "code",
      "execution_count": 13,
      "metadata": {
        "colab": {
          "base_uri": "https://localhost:8080/"
        },
        "id": "K0MRqeu0Ns98",
        "outputId": "954553b1-ec02-483b-bb0d-b3f41498a9db"
      },
      "outputs": [
        {
          "output_type": "stream",
          "name": "stdout",
          "text": [
            "Mounted at /content/drive\n"
          ]
        }
      ],
      "source": [
        "from google.colab import drive\n",
        "drive.mount('/content/drive')"
      ]
    },
    {
      "cell_type": "code",
      "execution_count": 14,
      "metadata": {
        "colab": {
          "base_uri": "https://localhost:8080/"
        },
        "id": "lH1wtwzxPDnY",
        "outputId": "f368557a-c247-4ada-8459-9c490c5ba24f"
      },
      "outputs": [
        {
          "output_type": "execute_result",
          "data": {
            "text/plain": [
              "402"
            ]
          },
          "metadata": {},
          "execution_count": 14
        }
      ],
      "source": [
        "len(os.listdir(\"/content/drive/MyDrive/ECG project/ECG_200\"))"
      ]
    },
    {
      "cell_type": "markdown",
      "source": [
        "# Pan tompkins algorithm and preprocessing"
      ],
      "metadata": {
        "id": "4dOop1lB6htF"
      }
    },
    {
      "cell_type": "code",
      "execution_count": 15,
      "metadata": {
        "colab": {
          "base_uri": "https://localhost:8080/"
        },
        "id": "Nla_o0W_n60Z",
        "outputId": "c9cb0375-6da5-4da8-e864-908283e5a718"
      },
      "outputs": [
        {
          "output_type": "stream",
          "name": "stdout",
          "text": [
            "Warning: file appears to be invalid or corrupt. (/content/1-300m.ecg)\n"
          ]
        }
      ],
      "source": [
        "# Load a file from disk:\n",
        "all_data = Holter('/content/1-300m.ecg')\n",
        "all_data.load_data()"
      ]
    },
    {
      "cell_type": "code",
      "execution_count": 16,
      "metadata": {
        "id": "U89d-69Jn_AT"
      },
      "outputs": [],
      "source": [
        "x_lead = all_data.lead[0]\n",
        "y_lead = all_data.lead[1]\n",
        "z_lead = all_data.lead[2]"
      ]
    },
    {
      "cell_type": "code",
      "execution_count": 17,
      "metadata": {
        "colab": {
          "base_uri": "https://localhost:8080/"
        },
        "id": "ocm5Yu6-YOAL",
        "outputId": "9e91ca0d-999e-4ab6-ef35-74bbb63465a6"
      },
      "outputs": [
        {
          "output_type": "execute_result",
          "data": {
            "text/plain": [
              "array([0.058536, 0.058536, 0.014634, ..., 0.19512 , 0.209754, 0.229266])"
            ]
          },
          "metadata": {},
          "execution_count": 17
        }
      ],
      "source": [
        "x_lead.data"
      ]
    },
    {
      "cell_type": "code",
      "execution_count": 18,
      "metadata": {
        "id": "ovis0Lob4mJE"
      },
      "outputs": [],
      "source": [
        "def process_ecg(unfiltered_ecg, fs):\n",
        "    # Step 1 of Pan-Tompkins Algorithm - ECG Filtering (Bandpass between 5 and 15 Hz)\n",
        "    filtered_signal = bsnb.detect._ecg_band_pass_filter(unfiltered_ecg, fs)\n",
        "    # Step 2 of Pan-Tompkins Algorithm - ECG Differentiation\n",
        "    differentiated_signal = np.diff(filtered_signal)\n",
        "    # Step 3 of Pan-Tompkins Algorithm - ECG Rectification\n",
        "    squared_signal = differentiated_signal * differentiated_signal\n",
        "    # Step 4 of Pan-Tompkins Algorithm - ECG Integration ( Moving window integration )\n",
        "    nbr_sampls_int_wind = int(0.080 * fs)\n",
        "    integrated_signal = np.zeros_like(squared_signal)\n",
        "    cumulative_sum = squared_signal.cumsum()\n",
        "    integrated_signal[nbr_sampls_int_wind:] = (cumulative_sum[nbr_sampls_int_wind:] - cumulative_sum[\n",
        "                                                                                      :-nbr_sampls_int_wind]) / nbr_sampls_int_wind\n",
        "    integrated_signal[:nbr_sampls_int_wind] = cumulative_sum[:nbr_sampls_int_wind] / np.arange(1, nbr_sampls_int_wind + 1)\n",
        "    # Initialisation of the R peak detection algorithm\n",
        "    rr_buffer, signal_peak_1, noise_peak_1, threshold = bsnb.detect._buffer_ini(integrated_signal, fs)\n",
        "    # Detection of possible and probable R peaks\n",
        "    probable_peaks, possible_peaks = bsnb.detect._detects_peaks(integrated_signal, fs)\n",
        "    # Identification of definitive R peaks\n",
        "    definitive_peaks = bsnb.detect._checkup(probable_peaks, integrated_signal, fs, rr_buffer, signal_peak_1,\n",
        "                                            noise_peak_1, threshold)\n",
        "    # Conversion to integer type.\n",
        "    definitive_peaks = np.array(list(map(int, definitive_peaks)))\n",
        "    # Correcting step\n",
        "    map_integers = definitive_peaks - 40 * (fs / 1000)\n",
        "    definitive_peaks_reph = np.array(list(map(int, map_integers)))\n",
        "    return definitive_peaks_reph, filtered_signal"
      ]
    },
    {
      "cell_type": "code",
      "execution_count": 19,
      "metadata": {
        "id": "yCfGXJBC8HoE"
      },
      "outputs": [],
      "source": [
        "# Normalizing method\n",
        "def normalize(signal):\n",
        "    a, b = -1, 1\n",
        "    c = b - a\n",
        "    aux = (signal - np.min(signal)) / (np.max(signal) - np.min(signal))\n",
        "    norm_ecg = c * aux + a\n",
        "    return norm_ecg"
      ]
    },
    {
      "cell_type": "code",
      "execution_count": 20,
      "metadata": {
        "id": "RTi5p12l8UHn"
      },
      "outputs": [],
      "source": [
        "# Calculates the mean distance between all peaks for each user\n",
        "def peak_distance(r_peaks):\n",
        "    dist = []\n",
        "    for i in range(len(r_peaks)):\n",
        "        if r_peaks[i] == r_peaks[-1]:\n",
        "            break\n",
        "        distance = r_peaks[i + 1] - r_peaks[i]\n",
        "        if i == 0:\n",
        "            dist.append(distance)\n",
        "            continue\n",
        "        if distance > np.mean(dist) + np.std(dist) * 2:\n",
        "            continue\n",
        "        else:\n",
        "            dist.append(distance)\n",
        "    return np.mean(dist)"
      ]
    },
    {
      "cell_type": "code",
      "execution_count": 21,
      "metadata": {
        "id": "fh2AFfpo-BwC"
      },
      "outputs": [],
      "source": [
        "def electrocardiomatrix(distance, r_peaks, filtered_ecg, init_window, peaks_window):\n",
        "    init_seg = int(0.2 * distance)\n",
        "    fin_seg = int(1.5 * distance)\n",
        "    all_segments = []\n",
        "    for peak in r_peaks[init_window:init_window + peaks_window]:\n",
        "        if peak - init_seg < 0:\n",
        "            segment = filtered_ecg[0:peak + fin_seg]\n",
        "        else:\n",
        "            segment = filtered_ecg[peak - init_seg:peak + fin_seg]\n",
        "        all_segments.append(segment[:,np.newaxis])\n",
        "    if all_segments[0].shape[0] < all_segments[1].shape[0]:\n",
        "        zeros = np.zeros(int(all_segments[1].shape[0])-int(all_segments[0].shape[0]))[:, np.newaxis]\n",
        "        new_segment = np.concatenate((zeros, all_segments[0]))\n",
        "        all_segments[0] = new_segment\n",
        "    try:\n",
        "      ecm = np.concatenate(all_segments, 1)\n",
        "    except ValueError:\n",
        "      return None\n",
        "    return ecm.T"
      ]
    },
    {
      "cell_type": "code",
      "execution_count": 22,
      "metadata": {
        "id": "DRKr9QQ4VR_-"
      },
      "outputs": [],
      "source": [
        "def electrocardiomatrix_no_1(filtered_ecg, init_window, sampling_rate, window_size):\n",
        "  fs = sampling_rate\n",
        "  window_signal_sample_size = window_size * fs\n",
        "  each_line_ekm_size = 1 # seconds\n",
        "  each_line_ekm_sample_signal_size = each_line_ekm_size * fs\n",
        "  all_segments = []\n",
        "\n",
        "  for ekm_line in range(window_size):\n",
        "    segment = filtered_ecg[init_window + (ekm_line * each_line_ekm_sample_signal_size): \\\n",
        "                init_window + ((ekm_line+1) * each_line_ekm_sample_signal_size)]\n",
        "    all_segments.append(segment)\n",
        "\n",
        "  ecm = all_segments\n",
        "\n",
        "  return ecm"
      ]
    },
    {
      "cell_type": "code",
      "execution_count": 23,
      "metadata": {
        "id": "rZESPOoe-HB1"
      },
      "outputs": [],
      "source": [
        "# Labeling is in this way that, prelast element of EKM's name is the user's id,\n",
        "# and the last element is the number of the EKM for that user\n",
        "def save_ecm(dataset_name, path, key, i):\n",
        "    # Saving EKMs in format of {path}/_NumberOfbpfsInAEKM_bpf-ekm-{key=user id}-{i=serial Number}\n",
        "    plt.savefig(f\"{path}/10bpf-ekm-{dataset_name}-{key}-{str(i)}\",bbox_inches='tight', pad_inches=0)"
      ]
    },
    {
      "cell_type": "code",
      "source": [
        "# Labeling is in this way that, prelast element of EKM's name is the user's id,\n",
        "# and the last element is the number of the EKM for that user\n",
        "def save_ecm_no_1(dataset_name, path, key, i):\n",
        "    # Saving EKMs in format of {path}/_NumberOfbpfsInAEKM_bpf-ekm-{key=user id}-{i=serial Number}\n",
        "    plt.savefig(f\"{path}/{sbf}sbf-ekm-{dataset_name}-{key}-{str(i)}\",bbox_inches='tight', pad_inches=0)"
      ],
      "metadata": {
        "id": "zlyvmA05r_v1"
      },
      "execution_count": null,
      "outputs": []
    },
    {
      "cell_type": "code",
      "execution_count": 24,
      "metadata": {
        "id": "o_WkkMD0EYme"
      },
      "outputs": [],
      "source": [
        "def little_ekm_dataset(lead_data, sampling_rate, dataset_name, ekms_path, key):\n",
        "  print(\"  .Preprocessing the signal\")\n",
        "  peaks, filtered_ecg = process_ecg(lead_data , sampling_rate)\n",
        "\n",
        "  print(\"  .Getting detrend_signal, norm_ecg, distance\")\n",
        "  detrend_signal = detrend(filtered_ecg)\n",
        "  norm_ecg = normalize(detrend_signal)\n",
        "  distance = peak_distance(peaks)\n",
        "\n",
        "  # by fs=200, 2 seconds will be 10 bpf\n",
        "  # bpf => 2(s) / 200 * 0.001\n",
        "  bpf = 10\n",
        "  peaks_window = bpf-1\n",
        "  data_obtained = []\n",
        "  distances = []\n",
        "  negative = True\n",
        "  ekms_counter, init_window = 0, 0\n",
        "  total_ecms = 3000\n",
        "\n",
        "  fig_width_px = 33\n",
        "  fig_height_px = 21\n",
        "\n",
        "  print(\"  .Getting EKMs\")\n",
        "  while(ekms_counter<total_ecms):\n",
        "    if (init_window >= len(peaks)) or (init_window >= len(peaks)-1): break\n",
        "    ecm = electrocardiomatrix(distance, peaks, norm_ecg, init_window, peaks_window)\n",
        "    if ecm is None: break\n",
        "    distance = int(distance)\n",
        "    norm_ecm = normalize(ecm)\n",
        "\n",
        "    fig = plt.figure(num=1, clear=True, figsize=(fig_width_px / 80, fig_height_px / 80))\n",
        "    ax = fig.add_subplot()\n",
        "    ax.axis('off')\n",
        "\n",
        "    sns.heatmap(norm_ecm, xticklabels=False, yticklabels=False, cbar=False)\n",
        "    # plt.tight_layout()\n",
        "\n",
        "    save_ecm(dataset_name, ekms_path, key, ekms_counter)\n",
        "    ekms_counter += 1\n",
        "    # break"
      ]
    },
    {
      "cell_type": "code",
      "source": [
        "def little_ekm_dataset_shifted(lead_data, sampling_rate, dataset_name, ekms_path, key, shift_amount):\n",
        "  print(\"Shifting the raw signal\")\n",
        "  shifted_signal = lead_data[int(shift_amount * sampling_rate):]\n",
        "\n",
        "  print(\"  .Preprocessing the signal\")\n",
        "  peaks, filtered_ecg = process_ecg(shifted_signal , sampling_rate)\n",
        "\n",
        "  print(\"  .Getting detrend_signal, norm_ecg, distance\")\n",
        "  detrend_signal = detrend(filtered_ecg)\n",
        "  norm_ecg = normalize(detrend_signal)\n",
        "  distance = peak_distance(peaks)\n",
        "\n",
        "  # by fs=200, 2 seconds will be 10 bpf\n",
        "  # bpf => 2(s) / 200 * 0.001\n",
        "  # bpf = 10\n",
        "  # peaks_window = bpf-1\n",
        "\n",
        "  data_obtained = []\n",
        "  distances = []\n",
        "  negative = True\n",
        "  ekms_counter, init_window = 0, 0\n",
        "  total_ecms = 3000\n",
        "\n",
        "  fig_width_px = 33\n",
        "  fig_height_px = 21\n",
        "\n",
        "  print(\"  .Getting EKMs\")\n",
        "  while(ekms_counter<total_ecms):\n",
        "    if (init_window >= len(peaks)) or (init_window >= len(peaks)-1): break\n",
        "    ecm = electrocardiomatrix_no_1(distance, peaks, norm_ecg, init_window, peaks_window)\n",
        "    if ecm is None: break\n",
        "    distance = int(distance)\n",
        "    norm_ecm = normalize(ecm)\n",
        "\n",
        "    fig = plt.figure(num=1, clear=True, figsize=(fig_width_px / 80, fig_height_px / 80))\n",
        "    ax = fig.add_subplot()\n",
        "    ax.axis('off')\n",
        "\n",
        "    sns.heatmap(norm_ecm, xticklabels=False, yticklabels=False, cbar=False)\n",
        "    # plt.tight_layout()\n",
        "\n",
        "    save_ecm_no_1(dataset_name, ekms_path, key, ekms_counter)\n",
        "    ekms_counter += 1\n",
        "    # break"
      ],
      "metadata": {
        "id": "loQaC6iAlvyp"
      },
      "execution_count": null,
      "outputs": []
    },
    {
      "cell_type": "code",
      "execution_count": 25,
      "metadata": {
        "id": "bNtYs5ezGJCf"
      },
      "outputs": [],
      "source": [
        "def big_ekm_dataset(lead_data, sampling_rate, dataset_name, ekms_path, key):\n",
        "  print(\"  .Preprocessing the signal\")\n",
        "  peaks, filtered_ecg = process_ecg(lead_data , sampling_rate)\n",
        "\n",
        "  print(\"  .Getting detrend_signal, norm_ecg, distance\")\n",
        "  detrend_signal = detrend(filtered_ecg)\n",
        "  norm_ecg = normalize(detrend_signal)\n",
        "  distance = peak_distance(peaks)\n",
        "\n",
        "  # by fs=200, 2 seconds will be 10 bpf\n",
        "  # bpf => 2(s) / 200 * 0.001\n",
        "  bpf = 10\n",
        "  peaks_window = bpf-1\n",
        "  data_obtained = []\n",
        "  distances = []\n",
        "  negative = True\n",
        "  ekms_counter, init_window = 0, 0\n",
        "  total_ecms = 3000\n",
        "\n",
        "  print(\"  .Getting EKMs\")\n",
        "  while(ekms_counter<total_ecms):\n",
        "    if (init_window >= len(peaks)) or (init_window >= len(peaks)-1): break\n",
        "    ecm = electrocardiomatrix(distance, peaks, norm_ecg, init_window, peaks_window)\n",
        "    if ecm is None: break\n",
        "    distance = int(distance)\n",
        "    norm_ecm = normalize(ecm)\n",
        "\n",
        "    sns.heatmap(norm_ecm, xticklabels=False, yticklabels=False, cbar=False)\n",
        "    # plt.tight_layout()\n",
        "\n",
        "    save_ecm(dataset_name, ekms_path, key, ekms_counter)\n",
        "    init_window += bpf\n",
        "    ekms_counter += 1\n",
        "    # break"
      ]
    },
    {
      "cell_type": "code",
      "execution_count": 26,
      "metadata": {
        "id": "lnhu0CERHzJk"
      },
      "outputs": [],
      "source": [
        "def pretier_print(pos, userNumber, usr_ecg_file_name):\n",
        "  if pos == \"begin\":\n",
        "    [print(\"-\", end=\"\") for i in range(30)]\n",
        "    print(\"\")\n",
        "    print(datetime.now().strftime('%Y-%m-%d %H:%M:%S'))\n",
        "    print(f\"-> User No.{userNumber}\")\n",
        "    print(\"\")\n",
        "    print(usr_ecg_file_name)\n",
        "\n",
        "  if pos == \"end\":\n",
        "    print(\"\")\n",
        "    print(datetime.now().strftime('%Y-%m-%d %H:%M:%S'))\n",
        "    print(\"\")"
      ]
    },
    {
      "cell_type": "markdown",
      "source": [
        "## Little shifted EKMs"
      ],
      "metadata": {
        "id": "z_HjKU6GngDZ"
      }
    },
    {
      "cell_type": "code",
      "source": [
        "dataset_path = \"/content/drive/MyDrive/ECG project/ECG_200\"\n",
        "users_files = os.listdir(dataset_path)\n",
        "users_files.remove(\"clinicalData-selected\")\n",
        "len(users_files)"
      ],
      "metadata": {
        "colab": {
          "base_uri": "https://localhost:8080/"
        },
        "id": "Esg1kRugnxo-",
        "outputId": "caf8df77-2598-41ae-d16c-9deb76f78d76"
      },
      "execution_count": 27,
      "outputs": [
        {
          "output_type": "execute_result",
          "data": {
            "text/plain": [
              "401"
            ]
          },
          "metadata": {},
          "execution_count": 27
        }
      ]
    },
    {
      "cell_type": "code",
      "source": [
        "# Getting .ecg files of users\n",
        "users_ecg_files = []\n",
        "for _file in users_files:\n",
        "  f_extention = _file.split(\".\")[1]\n",
        "  if f_extention == \"ecg\":\n",
        "    users_ecg_files.append(_file)"
      ],
      "metadata": {
        "id": "lOy3QP8jn7Zn"
      },
      "execution_count": 29,
      "outputs": []
    },
    {
      "cell_type": "code",
      "source": [
        "users_ecg_files[:10]"
      ],
      "metadata": {
        "colab": {
          "base_uri": "https://localhost:8080/"
        },
        "id": "JGKl0VSSoJ6S",
        "outputId": "a79784bf-2e0f-4387-9ad4-59af02d8b97e"
      },
      "execution_count": 32,
      "outputs": [
        {
          "output_type": "execute_result",
          "data": {
            "text/plain": [
              "['10022.ecg',\n",
              " '10023.ecg',\n",
              " '10047.ecg',\n",
              " '10048.ecg',\n",
              " '10049.ecg',\n",
              " '10050.ecg',\n",
              " '10051.ecg',\n",
              " '10062.ecg',\n",
              " '10064.ecg',\n",
              " '10066.ecg']"
            ]
          },
          "metadata": {},
          "execution_count": 32
        }
      ]
    },
    {
      "cell_type": "code",
      "source": [
        "# Initialization of dataset extracting processing\n",
        "sampling_rate = all_data.sr\n",
        "dataset_name = \"main_shifted_ekm_dataset\"\n",
        "base_ekms_path = f'EKM_dataset'\n",
        "\n",
        "shift_amount = 0.5 # seconds\n",
        "\n",
        "lead_names_dict = {\n",
        "    1: \"x_lead\",\n",
        "    2: \"y_lead\",\n",
        "    3: \"z_lead\"\n",
        "}"
      ],
      "metadata": {
        "id": "-lfQqtddn9NX"
      },
      "execution_count": 30,
      "outputs": []
    },
    {
      "cell_type": "code",
      "source": [
        "def user_EKMs_dir_creator():\n",
        "  # Removing previous EKM dir and creating new one\n",
        "  ! rm -r EKM_dataset/\n",
        "  ! mkdir EKM_dataset\n",
        "  ! mkdir EKM_dataset/x_lead\n",
        "  ! mkdir EKM_dataset/y_lead\n",
        "  ! mkdir EKM_dataset/z_lead"
      ],
      "metadata": {
        "id": "atP7H8EqoCZV"
      },
      "execution_count": 31,
      "outputs": []
    },
    {
      "cell_type": "code",
      "source": [
        "# Getting EKMs of each lead of users from .ecg files\n",
        "for ecg_file in users_ecg_files:\n",
        "  user_EKMs_dir_creator()\n",
        "\n",
        "  ecg_file_path = dataset_path + \"/\" + ecg_file\n",
        "  user_leads_all_data = Holter(ecg_file_path)\n",
        "  user_leads_all_data.load_data()\n",
        "\n",
        "  x_lead = user_leads_all_data.lead[0]\n",
        "  y_lead = user_leads_all_data.lead[1]\n",
        "  z_lead = user_leads_all_data.lead[2]\n",
        "\n",
        "  user_leads_signals = [x_lead, y_lead, z_lead]\n",
        "  user_id = ecg_file.split(\".\")[0]\n",
        "  sampling_rate = user_leads_all_data.sr\n",
        "\n",
        "  for _, lead_data in enumerate(user_leads_signals):\n",
        "    name_of_file = ecg_file + \": \" + lead_names_dict[_ + 1]\n",
        "    pretier_print(\"begin\", int(user_id), name_of_file)\n",
        "\n",
        "    lead_path = base_ekms_path + \"/\" + lead_names_dict[_ + 1]\n",
        "    little_ekm_dataset_shifted(lead_data.data, sampling_rate, dataset_name, lead_path, user_id, shift_amount)\n",
        "\n",
        "    pretier_print(\"end\", int(user_id), ecg_file)\n",
        "\n",
        "  shutil.make_archive(user_id, format='zip', root_dir='/content/EKM_dataset')\n",
        "  source_file_path = f\"/content/{user_id}.zip\"\n",
        "  destination_directory = f\"/content/drive/MyDrive/ECG project/IMD project/{user_id}.zip\"\n",
        "  shutil.move(source_file_path, destination_directory)"
      ],
      "metadata": {
        "id": "lhrKTwOroG4U"
      },
      "execution_count": null,
      "outputs": []
    }
  ],
  "metadata": {
    "language_info": {
      "name": "python"
    },
    "colab": {
      "provenance": []
    },
    "kernelspec": {
      "name": "python3",
      "display_name": "Python 3"
    }
  },
  "nbformat": 4,
  "nbformat_minor": 0
}