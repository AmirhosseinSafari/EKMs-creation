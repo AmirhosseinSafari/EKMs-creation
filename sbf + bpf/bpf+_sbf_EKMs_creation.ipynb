{
  "cells": [
    {
      "cell_type": "markdown",
      "metadata": {
        "id": "yUk1rDACwHcE"
      },
      "source": [
        "## Installation and Imports"
      ]
    },
    {
      "cell_type": "code",
      "execution_count": null,
      "metadata": {
        "id": "-JlhPlnU20vx"
      },
      "outputs": [],
      "source": [
        "! pip install biosignalsnotebooks"
      ]
    },
    {
      "cell_type": "code",
      "execution_count": 2,
      "metadata": {
        "colab": {
          "base_uri": "https://localhost:8080/"
        },
        "id": "XvX11Dtt95Go",
        "outputId": "a98904d0-f128-461e-90f0-6d0f0706a53c"
      },
      "outputs": [
        {
          "name": "stdout",
          "output_type": "stream",
          "text": [
            "Collecting ishneholterlib\n",
            "  Downloading ishneholterlib-2020.5.29-py3-none-any.whl.metadata (356 bytes)\n",
            "Collecting crccheck (from ishneholterlib)\n",
            "  Downloading crccheck-1.3.0-py3-none-any.whl.metadata (5.5 kB)\n",
            "Requirement already satisfied: numpy in /usr/local/lib/python3.10/dist-packages (from ishneholterlib) (1.22.2)\n",
            "Downloading ishneholterlib-2020.5.29-py3-none-any.whl (8.4 kB)\n",
            "Downloading crccheck-1.3.0-py3-none-any.whl (21 kB)\n",
            "Installing collected packages: crccheck, ishneholterlib\n",
            "Successfully installed crccheck-1.3.0 ishneholterlib-2020.5.29\n"
          ]
        }
      ],
      "source": [
        "! pip3 install ishneholterlib"
      ]
    },
    {
      "cell_type": "code",
      "execution_count": 3,
      "metadata": {
        "colab": {
          "base_uri": "https://localhost:8080/"
        },
        "id": "ebSCyrGSuzwN",
        "outputId": "3dd1208a-c494-41c2-e958-3d829b07ed7c"
      },
      "outputs": [
        {
          "name": "stdout",
          "output_type": "stream",
          "text": [
            "--2024-09-03 12:48:30--  http://thew-project.org/document/1-300mECG.zip\n",
            "Resolving thew-project.org (thew-project.org)... 128.151.146.136\n",
            "Connecting to thew-project.org (thew-project.org)|128.151.146.136|:80... connected.\n",
            "HTTP request sent, awaiting response... 200 OK\n",
            "Length: 680061 (664K) [application/x-zip-compressed]\n",
            "Saving to: ‘1-300mECG.zip’\n",
            "\n",
            "1-300mECG.zip       100%[===================>] 664.12K   728KB/s    in 0.9s    \n",
            "\n",
            "2024-09-03 12:48:31 (728 KB/s) - ‘1-300mECG.zip’ saved [680061/680061]\n",
            "\n",
            "Archive:  /content/1-300mECG.zip\n",
            "  inflating: 1-300m.ecg              \n"
          ]
        }
      ],
      "source": [
        "! wget http://thew-project.org/document/1-300mECG.zip\n",
        "! unzip /content/1-300mECG.zip"
      ]
    },
    {
      "cell_type": "code",
      "execution_count": 4,
      "metadata": {
        "colab": {
          "base_uri": "https://localhost:8080/"
        },
        "id": "G7ChRd8J7e3L",
        "outputId": "d91f7f32-1ab6-4b98-f131-74bd731776ea"
      },
      "outputs": [
        {
          "name": "stderr",
          "output_type": "stream",
          "text": [
            "/usr/local/lib/python3.10/dist-packages/scipy/__init__.py:146: UserWarning: A NumPy version >=1.17.3 and <1.25.0 is required for this version of SciPy (detected version 1.26.4\n",
            "  warnings.warn(f\"A NumPy version >={np_minversion} and <{np_maxversion}\"\n"
          ]
        }
      ],
      "source": [
        "# Imports\n",
        "import numpy as np\n",
        "import matplotlib.pyplot as plt\n",
        "import biosignalsnotebooks as bsnb\n",
        "from scipy.signal import detrend\n",
        "import seaborn as sns"
      ]
    },
    {
      "cell_type": "code",
      "execution_count": 5,
      "metadata": {
        "id": "fdmhBnmTuqqI"
      },
      "outputs": [],
      "source": [
        "from ishneholterlib import Holter\n",
        "import numpy as np"
      ]
    },
    {
      "cell_type": "code",
      "execution_count": 6,
      "metadata": {
        "id": "iMqjuykaIfB5"
      },
      "outputs": [],
      "source": [
        "import os\n",
        "from datetime import datetime\n",
        "from PIL import Image\n",
        "import random"
      ]
    },
    {
      "cell_type": "code",
      "execution_count": 7,
      "metadata": {
        "id": "BFEsxSQdyyv5"
      },
      "outputs": [],
      "source": [
        "import cv2"
      ]
    },
    {
      "cell_type": "code",
      "execution_count": null,
      "metadata": {
        "id": "ulniyG3uGsPg"
      },
      "outputs": [],
      "source": [
        "! rm -r EKM_dataset_big_EKM/\n",
        "! rm -r EKM_dataset/"
      ]
    },
    {
      "cell_type": "code",
      "execution_count": null,
      "metadata": {
        "id": "hdrdfkjfu9Cj"
      },
      "outputs": [],
      "source": [
        "# DON'T RUN!\n",
        "! mkdir EKM_dataset\n",
        "! mkdir EKM_dataset/x_lead\n",
        "! mkdir EKM_dataset/y_lead\n",
        "! mkdir EKM_dataset/z_lead"
      ]
    },
    {
      "cell_type": "code",
      "execution_count": 8,
      "metadata": {
        "id": "QcfNLpvn_yR2"
      },
      "outputs": [],
      "source": [
        "! mkdir EKM_dataset_big_EKM\n",
        "! mkdir EKM_dataset_big_EKM/x_lead\n",
        "! mkdir EKM_dataset_big_EKM/y_lead\n",
        "! mkdir EKM_dataset_big_EKM/z_lead"
      ]
    },
    {
      "cell_type": "code",
      "execution_count": 9,
      "metadata": {
        "id": "ZgZNEmHGwPSv"
      },
      "outputs": [],
      "source": [
        "import shutil"
      ]
    },
    {
      "cell_type": "code",
      "execution_count": 10,
      "metadata": {
        "colab": {
          "base_uri": "https://localhost:8080/"
        },
        "id": "K0MRqeu0Ns98",
        "outputId": "3e66c81e-8fa5-4e4a-ea00-ab3b2a124f7e"
      },
      "outputs": [
        {
          "name": "stdout",
          "output_type": "stream",
          "text": [
            "Mounted at /content/drive\n"
          ]
        }
      ],
      "source": [
        "from google.colab import drive\n",
        "drive.mount('/content/drive')"
      ]
    },
    {
      "cell_type": "code",
      "execution_count": 13,
      "metadata": {
        "colab": {
          "base_uri": "https://localhost:8080/"
        },
        "id": "lH1wtwzxPDnY",
        "outputId": "fd04f69b-0806-4aab-bcab-a9b2f7093354"
      },
      "outputs": [
        {
          "data": {
            "text/plain": [
              "403"
            ]
          },
          "execution_count": 13,
          "metadata": {},
          "output_type": "execute_result"
        }
      ],
      "source": [
        "len(os.listdir(\"/content/drive/MyDrive/ECG project/ECG_200\"))"
      ]
    },
    {
      "cell_type": "markdown",
      "metadata": {
        "id": "h-SFWzEp4cgQ"
      },
      "source": [
        "## Initial variables (codes for different status)"
      ]
    },
    {
      "cell_type": "code",
      "execution_count": 12,
      "metadata": {
        "id": "AnJyVq0y4Zcg"
      },
      "outputs": [],
      "source": [
        "# default values for fields that may be set/edited by the user\n",
        "header_field_defaults = {\n",
        "    'file_version':  -9,\n",
        "    'first_name':    '',\n",
        "    'last_name':     '',\n",
        "    'id':            '',\n",
        "    'sex':           0,\n",
        "    'race':          0,\n",
        "    'birth_date':    None,\n",
        "    'pm':            -9,\n",
        "    'recorder_type': '',  # TODO?: 'unknown'\n",
        "    'proprietary':   '',\n",
        "    'copyright':     '',\n",
        "    'reserved':      '',\n",
        "    'var_block':     ''\n",
        "}\n",
        "\n",
        "# numeric codes from Table 1 of ISHNE Holter spec\n",
        "lead_specs = {\n",
        "    -9: 'absent', 0: 'unknown', 1: 'generic',\n",
        "    2: 'X',    3: 'Y',    4: 'Z',\n",
        "    5: 'I',    6: 'II',   7: 'III',\n",
        "    8: 'aVR',  9: 'aVL', 10: 'aVF',\n",
        "    11: 'V1', 12: 'V2',  13: 'V3',\n",
        "    14: 'V4', 15: 'V5',  16: 'V6',\n",
        "    17: 'ES', 18: 'AS',  19: 'AI'\n",
        "}\n",
        "\n",
        "# numeric codes from Table 2 of ISHNE Holter spec\n",
        "lead_qualities = {\n",
        "    -9: 'absent',\n",
        "    0: 'unknown',\n",
        "    1: 'good',\n",
        "    2: 'intermittent noise',\n",
        "    3: 'frequent noise',\n",
        "    4: 'intermittent disconnect',\n",
        "    5: 'frequent disconnect'\n",
        "}\n",
        "\n",
        "# type of pacemaker\n",
        "pm_codes = {\n",
        "    0: 'none',  # i.e. no PM installed.  so -9 should be used for unknown.\n",
        "    1: 'unknown type',\n",
        "    2: 'single chamber unipolar',\n",
        "    3: 'dual chamber unipolar',\n",
        "    4: 'single chamber bipolar',\n",
        "    5: 'dual chamber bipolar',\n",
        "}\n",
        "\n",
        "gender_codes = {\n",
        "    0: None,  # unknown\n",
        "    1: 'M',\n",
        "    2: 'F'\n",
        "}\n",
        "\n",
        "# race codes.  other values (e.g. 4+) may also be used, but weren't in the initial spec\n",
        "race_codes = {\n",
        "    0: None,  # unknown\n",
        "    1: 'caucasian',\n",
        "    2: 'black',\n",
        "    3: 'oriental',\n",
        "}\n"
      ]
    },
    {
      "cell_type": "markdown",
      "metadata": {
        "id": "KJlII-2Tmt33"
      },
      "source": [
        "## Preprocessing by pan tompkins algorithm"
      ]
    },
    {
      "cell_type": "code",
      "execution_count": 14,
      "metadata": {
        "colab": {
          "base_uri": "https://localhost:8080/"
        },
        "id": "Nla_o0W_n60Z",
        "outputId": "d733ebb6-2e46-428c-f017-ffb893b73781"
      },
      "outputs": [
        {
          "name": "stdout",
          "output_type": "stream",
          "text": [
            "Warning: file appears to be invalid or corrupt. (/content/1-300m.ecg)\n"
          ]
        }
      ],
      "source": [
        "# Load a file from disk:\n",
        "all_data = Holter('/content/1-300m.ecg')\n",
        "all_data.load_data()"
      ]
    },
    {
      "cell_type": "code",
      "execution_count": 15,
      "metadata": {
        "id": "U89d-69Jn_AT"
      },
      "outputs": [],
      "source": [
        "x_lead = all_data.lead[0]\n",
        "y_lead = all_data.lead[1]\n",
        "z_lead = all_data.lead[2]"
      ]
    },
    {
      "cell_type": "code",
      "execution_count": 16,
      "metadata": {
        "colab": {
          "base_uri": "https://localhost:8080/"
        },
        "id": "ocm5Yu6-YOAL",
        "outputId": "c3b4525d-ce3a-43fd-c75f-1d169fb5139b"
      },
      "outputs": [
        {
          "data": {
            "text/plain": [
              "array([0.058536, 0.058536, 0.014634, ..., 0.19512 , 0.209754, 0.229266])"
            ]
          },
          "execution_count": 16,
          "metadata": {},
          "output_type": "execute_result"
        }
      ],
      "source": [
        "x_lead.data"
      ]
    },
    {
      "cell_type": "code",
      "execution_count": 17,
      "metadata": {
        "id": "ovis0Lob4mJE"
      },
      "outputs": [],
      "source": [
        "def process_ecg(unfiltered_ecg, fs):\n",
        "    # Step 1 of Pan-Tompkins Algorithm - ECG Filtering (Bandpass between 5 and 15 Hz)\n",
        "    filtered_signal = bsnb.detect._ecg_band_pass_filter(unfiltered_ecg, fs)\n",
        "    # Step 2 of Pan-Tompkins Algorithm - ECG Differentiation\n",
        "    differentiated_signal = np.diff(filtered_signal)\n",
        "    # Step 3 of Pan-Tompkins Algorithm - ECG Rectification\n",
        "    squared_signal = differentiated_signal * differentiated_signal\n",
        "    # Step 4 of Pan-Tompkins Algorithm - ECG Integration ( Moving window integration )\n",
        "    nbr_sampls_int_wind = int(0.080 * fs)\n",
        "    integrated_signal = np.zeros_like(squared_signal)\n",
        "    cumulative_sum = squared_signal.cumsum()\n",
        "    integrated_signal[nbr_sampls_int_wind:] = (cumulative_sum[nbr_sampls_int_wind:] - cumulative_sum[\n",
        "                                                                                      :-nbr_sampls_int_wind]) / nbr_sampls_int_wind\n",
        "    integrated_signal[:nbr_sampls_int_wind] = cumulative_sum[:nbr_sampls_int_wind] / np.arange(1, nbr_sampls_int_wind + 1)\n",
        "    # Initialisation of the R peak detection algorithm\n",
        "    rr_buffer, signal_peak_1, noise_peak_1, threshold = bsnb.detect._buffer_ini(integrated_signal, fs)\n",
        "    # Detection of possible and probable R peaks\n",
        "    probable_peaks, possible_peaks = bsnb.detect._detects_peaks(integrated_signal, fs)\n",
        "    # Identification of definitive R peaks\n",
        "    definitive_peaks = bsnb.detect._checkup(probable_peaks, integrated_signal, fs, rr_buffer, signal_peak_1,\n",
        "                                            noise_peak_1, threshold)\n",
        "    # Conversion to integer type.\n",
        "    definitive_peaks = np.array(list(map(int, definitive_peaks)))\n",
        "    # Correcting step\n",
        "    map_integers = definitive_peaks - 40 * (fs / 1000)\n",
        "    definitive_peaks_reph = np.array(list(map(int, map_integers)))\n",
        "    return definitive_peaks_reph, filtered_signal"
      ]
    },
    {
      "cell_type": "code",
      "execution_count": 18,
      "metadata": {
        "id": "yCfGXJBC8HoE"
      },
      "outputs": [],
      "source": [
        "# Normalizing method\n",
        "def normalize(signal):\n",
        "    a, b = -1, 1\n",
        "    c = b - a\n",
        "    aux = (signal - np.min(signal)) / (np.max(signal) - np.min(signal))\n",
        "    norm_ecg = c * aux + a\n",
        "    return norm_ecg"
      ]
    },
    {
      "cell_type": "code",
      "execution_count": 19,
      "metadata": {
        "id": "RTi5p12l8UHn"
      },
      "outputs": [],
      "source": [
        "# Calculates the mean distance between all peaks for each user\n",
        "def peak_distance(r_peaks):\n",
        "    dist = []\n",
        "    for i in range(len(r_peaks)):\n",
        "        if r_peaks[i] == r_peaks[-1]:\n",
        "            break\n",
        "        distance = r_peaks[i + 1] - r_peaks[i]\n",
        "        if i == 0:\n",
        "            dist.append(distance)\n",
        "            continue\n",
        "        if distance > np.mean(dist) + np.std(dist) * 2:\n",
        "            continue\n",
        "        else:\n",
        "            dist.append(distance)\n",
        "    return np.mean(dist)"
      ]
    },
    {
      "cell_type": "code",
      "execution_count": 20,
      "metadata": {
        "id": "fh2AFfpo-BwC"
      },
      "outputs": [],
      "source": [
        "def electrocardiomatrix(distance, r_peaks, filtered_ecg, init_window, peaks_window):\n",
        "    init_seg = int(0.2 * distance)\n",
        "    fin_seg = int(1.5 * distance)\n",
        "    all_segments = []\n",
        "    for peak in r_peaks[init_window:init_window + peaks_window]:\n",
        "        if peak - init_seg < 0:\n",
        "            segment = filtered_ecg[0:peak + fin_seg]\n",
        "        else:\n",
        "            segment = filtered_ecg[peak - init_seg:peak + fin_seg]\n",
        "        all_segments.append(segment[:,np.newaxis])\n",
        "    if all_segments[0].shape[0] < all_segments[1].shape[0]:\n",
        "        zeros = np.zeros(int(all_segments[1].shape[0])-int(all_segments[0].shape[0]))[:, np.newaxis]\n",
        "        new_segment = np.concatenate((zeros, all_segments[0]))\n",
        "        all_segments[0] = new_segment\n",
        "    try:\n",
        "      ecm = np.concatenate(all_segments, 1)\n",
        "    except ValueError:\n",
        "      return None\n",
        "    return ecm.T"
      ]
    },
    {
      "cell_type": "code",
      "execution_count": 21,
      "metadata": {
        "id": "DRKr9QQ4VR_-"
      },
      "outputs": [],
      "source": [
        "def electrocardiomatrix_no_1(filtered_ecg, init_window, sampling_rate, window_size):\n",
        "  fs = sampling_rate\n",
        "  window_signal_sample_size = window_size * fs\n",
        "  each_line_ekm_size = 1 # seconds\n",
        "  each_line_ekm_sample_signal_size = each_line_ekm_size * fs\n",
        "  all_segments = []\n",
        "\n",
        "  for ekm_line in range(window_size):\n",
        "    segment = filtered_ecg[init_window + (ekm_line * each_line_ekm_sample_signal_size): \\\n",
        "                init_window + ((ekm_line+1) * each_line_ekm_sample_signal_size)]\n",
        "    all_segments.append(segment)\n",
        "\n",
        "  ecm = all_segments\n",
        "\n",
        "  return ecm"
      ]
    },
    {
      "cell_type": "code",
      "execution_count": 22,
      "metadata": {
        "id": "rZESPOoe-HB1"
      },
      "outputs": [],
      "source": [
        "# Labeling is in this way that, prelast element of EKM's name is the user's id,\n",
        "# and the last element is the number of the EKM for that user\n",
        "def save_ecm(dataset_name, path, key, i):\n",
        "    # Saving EKMs in format of {path}/_NumberOfbpfsInAEKM_bpf-ekm-{key=user id}-{i=serial Number}\n",
        "    plt.savefig(f\"{path}/10bpf-ekm-{dataset_name}-{key}-{str(i)}\",bbox_inches='tight', pad_inches=0)"
      ]
    },
    {
      "cell_type": "code",
      "execution_count": 23,
      "metadata": {
        "id": "o_WkkMD0EYme"
      },
      "outputs": [],
      "source": [
        "def little_ekm_dataset(lead_data, sampling_rate, dataset_name, ekms_path, key):\n",
        "  print(\"  .Preprocessing the signal\")\n",
        "  peaks, filtered_ecg = process_ecg(lead_data , sampling_rate)\n",
        "\n",
        "  print(\"  .Getting detrend_signal, norm_ecg, distance\")\n",
        "  detrend_signal = detrend(filtered_ecg)\n",
        "  norm_ecg = normalize(detrend_signal)\n",
        "  distance = peak_distance(peaks)\n",
        "\n",
        "  # by fs=200, 2 seconds will be 10 bpf\n",
        "  # bpf => 2(s) / 200 * 0.001\n",
        "  bpf = 10\n",
        "  peaks_window = bpf-1\n",
        "  data_obtained = []\n",
        "  distances = []\n",
        "  negative = True\n",
        "  ekms_counter, init_window = 0, 0\n",
        "  total_ecms = 3000\n",
        "\n",
        "  fig_width_px = 33\n",
        "  fig_height_px = 21\n",
        "\n",
        "  print(\"  .Getting EKMs\")\n",
        "  while(ekms_counter<total_ecms):\n",
        "    if (init_window >= len(peaks)) or (init_window >= len(peaks)-1): break\n",
        "    ecm = electrocardiomatrix(distance, peaks, norm_ecg, init_window, peaks_window)\n",
        "    if ecm is None: break\n",
        "    distance = int(distance)\n",
        "    norm_ecm = normalize(ecm)\n",
        "\n",
        "    fig = plt.figure(num=1, clear=True, figsize=(fig_width_px / 80, fig_height_px / 80))\n",
        "    ax = fig.add_subplot()\n",
        "    ax.axis('off')\n",
        "\n",
        "    sns.heatmap(norm_ecm, xticklabels=False, yticklabels=False, cbar=False)\n",
        "    # plt.tight_layout()\n",
        "\n",
        "    save_ecm(dataset_name, ekms_path, key, ekms_counter)\n",
        "    ekms_counter += 1\n",
        "    # break"
      ]
    },
    {
      "cell_type": "code",
      "execution_count": 24,
      "metadata": {
        "id": "bNtYs5ezGJCf"
      },
      "outputs": [],
      "source": [
        "def big_ekm_dataset(lead_data, sampling_rate, dataset_name, ekms_path, key):\n",
        "  print(\"  .Preprocessing the signal\")\n",
        "  peaks, filtered_ecg = process_ecg(lead_data , sampling_rate)\n",
        "\n",
        "  print(\"  .Getting detrend_signal, norm_ecg, distance\")\n",
        "  detrend_signal = detrend(filtered_ecg)\n",
        "  norm_ecg = normalize(detrend_signal)\n",
        "  distance = peak_distance(peaks)\n",
        "\n",
        "  # by fs=200, 2 seconds will be 10 bpf\n",
        "  # bpf => 2(s) / 200 * 0.001\n",
        "  bpf = 10\n",
        "  peaks_window = bpf-1\n",
        "  data_obtained = []\n",
        "  distances = []\n",
        "  negative = True\n",
        "  ekms_counter, init_window = 0, 0\n",
        "  total_ecms = 3000\n",
        "\n",
        "  print(\"  .Getting EKMs\")\n",
        "  while(ekms_counter<total_ecms):\n",
        "    if (init_window >= len(peaks)) or (init_window >= len(peaks)-1): break\n",
        "    ecm = electrocardiomatrix(distance, peaks, norm_ecg, init_window, peaks_window)\n",
        "    if ecm is None: break\n",
        "    distance = int(distance)\n",
        "    norm_ecm = normalize(ecm)\n",
        "\n",
        "    sns.heatmap(norm_ecm, xticklabels=False, yticklabels=False, cbar=False)\n",
        "    # plt.tight_layout()\n",
        "\n",
        "    save_ecm(dataset_name, ekms_path, key, ekms_counter)\n",
        "    init_window += bpf\n",
        "    ekms_counter += 1\n",
        "    # break"
      ]
    },
    {
      "cell_type": "code",
      "execution_count": 25,
      "metadata": {
        "id": "lnhu0CERHzJk"
      },
      "outputs": [],
      "source": [
        "def pretier_print(pos, userNumber, usr_ecg_file_name):\n",
        "  if pos == \"begin\":\n",
        "    [print(\"-\", end=\"\") for i in range(30)]\n",
        "    print(\"\")\n",
        "    print(datetime.now().strftime('%Y-%m-%d %H:%M:%S'))\n",
        "    print(f\"-> User No.{userNumber}\")\n",
        "    print(\"\")\n",
        "    print(usr_ecg_file_name)\n",
        "\n",
        "  if pos == \"end\":\n",
        "    print(\"\")\n",
        "    print(datetime.now().strftime('%Y-%m-%d %H:%M:%S'))\n",
        "    print(\"\")"
      ]
    },
    {
      "cell_type": "markdown",
      "metadata": {
        "id": "QMChJ-JQqYPn"
      },
      "source": [
        "### Big EKMs dataset"
      ]
    },
    {
      "cell_type": "code",
      "execution_count": 27,
      "metadata": {
        "id": "T43cnPku_sAc"
      },
      "outputs": [],
      "source": [
        "sampling_rate = all_data.sr\n",
        "dataset_name = \"big_ekm_sample\"\n",
        "base_big_ekms_path = f'EKM_dataset_big_EKM'\n",
        "train_split_percent = 0.8\n",
        "key = \"1\"\n",
        "\n",
        "sample_users_signals = [x_lead, y_lead, z_lead]\n",
        "\n",
        "lead_names_dict = {\n",
        "    1: \"x_lead\",\n",
        "    2: \"y_lead\",\n",
        "    3: \"z_lead\"\n",
        "}"
      ]
    },
    {
      "cell_type": "code",
      "execution_count": 28,
      "metadata": {
        "colab": {
          "base_uri": "https://localhost:8080/"
        },
        "id": "2-jEXtti6y7D",
        "outputId": "75130b38-80ec-4ab2-caa9-5ff6014cb32e"
      },
      "outputs": [
        {
          "data": {
            "text/plain": [
              "[<ishneholterlib.Lead at 0x7859ebdc6050>,\n",
              " <ishneholterlib.Lead at 0x7859b2e43f10>,\n",
              " <ishneholterlib.Lead at 0x7859b2e43520>]"
            ]
          },
          "execution_count": 28,
          "metadata": {},
          "output_type": "execute_result"
        }
      ],
      "source": [
        "sample_users_signals"
      ]
    },
    {
      "cell_type": "code",
      "execution_count": 29,
      "metadata": {
        "id": "HMQw8f-56HHE"
      },
      "outputs": [],
      "source": [
        "# lead_path = base_big_ekms_path + \"/\" + lead_names_dict[_ + 1]\n",
        "lead_data = sample_users_signals[0].data\n",
        "ekms_path = base_big_ekms_path + \"/\" + lead_names_dict[0 + 1]"
      ]
    },
    {
      "cell_type": "code",
      "execution_count": 30,
      "metadata": {
        "colab": {
          "base_uri": "https://localhost:8080/",
          "height": 35
        },
        "id": "Nl3rtoaR7LgI",
        "outputId": "6162f40b-f554-43ec-fd03-b6c11251935e"
      },
      "outputs": [
        {
          "data": {
            "application/vnd.google.colaboratory.intrinsic+json": {
              "type": "string"
            },
            "text/plain": [
              "'EKM_dataset_big_EKM/x_lead'"
            ]
          },
          "execution_count": 30,
          "metadata": {},
          "output_type": "execute_result"
        }
      ],
      "source": [
        "ekms_path"
      ]
    },
    {
      "cell_type": "code",
      "execution_count": 31,
      "metadata": {
        "colab": {
          "base_uri": "https://localhost:8080/"
        },
        "id": "pL3ZnqZt8Es6",
        "outputId": "892e6b46-56c7-48f1-e7e8-bd7639fe06d6"
      },
      "outputs": [
        {
          "name": "stdout",
          "output_type": "stream",
          "text": [
            "  .Preprocessing the signal\n",
            "  .Getting detrend_signal, norm_ecg, distance\n"
          ]
        }
      ],
      "source": [
        "# big_ekm_dataset(lead_data.data, sampling_rate, dataset_name, lead_path, key)\n",
        "print(\"  .Preprocessing the signal\")\n",
        "peaks, filtered_ecg = process_ecg(lead_data , sampling_rate)\n",
        "\n",
        "print(\"  .Getting detrend_signal, norm_ecg, distance\")\n",
        "detrend_signal = detrend(filtered_ecg)\n",
        "norm_ecg = normalize(detrend_signal)\n",
        "distance = peak_distance(peaks)\n",
        "\n",
        "# by fs=200, 2 seconds will be 10 bpf\n",
        "# bpf => 2(s) / 200 * 0.001\n",
        "bpf = 10\n",
        "peaks_window = bpf-1\n",
        "data_obtained = []\n",
        "distances = []\n",
        "negative = True\n",
        "ekms_counter, init_window = 0, 0\n",
        "total_ecms = 3000"
      ]
    },
    {
      "cell_type": "code",
      "execution_count": 32,
      "metadata": {
        "colab": {
          "base_uri": "https://localhost:8080/"
        },
        "id": "XNiqlGKj8OMJ",
        "outputId": "44bba259-d014-41c2-c1be-e449273f2be8"
      },
      "outputs": [
        {
          "data": {
            "text/plain": [
              "array([0.12510338, 0.10694632, 0.07986104, ..., 0.10027668, 0.11225453,\n",
              "       0.12508011])"
            ]
          },
          "execution_count": 32,
          "metadata": {},
          "output_type": "execute_result"
        }
      ],
      "source": [
        "norm_ecg"
      ]
    },
    {
      "cell_type": "code",
      "execution_count": 33,
      "metadata": {
        "colab": {
          "base_uri": "https://localhost:8080/"
        },
        "id": "HPxI9tM78Lad",
        "outputId": "caff7ed6-2a0d-418b-bf84-814139bb9495"
      },
      "outputs": [
        {
          "data": {
            "text/plain": [
              "array([     2,    256,    494, ..., 299263, 299496, 299729])"
            ]
          },
          "execution_count": 33,
          "metadata": {},
          "output_type": "execute_result"
        }
      ],
      "source": [
        "peaks"
      ]
    },
    {
      "cell_type": "code",
      "execution_count": null,
      "metadata": {
        "id": "0LooDEt77y-_"
      },
      "outputs": [],
      "source": [
        "def _electrocardiomatrix(distance, r_peaks, filtered_ecg, init_window, peaks_window):\n",
        "    # should create EKMs with the all possible peaks in 4 seconds and 6 seconds\n",
        "    # and let the what left in the end of window of signal.\n",
        "    # also its good to make the window size flexable.\n",
        "    init_seg = int(0.2 * distance)\n",
        "    fin_seg = int(1.5 * distance)\n",
        "    all_segments = []\n",
        "\n",
        "    # should walk trougth the 4 and 6 seconds signal (loop between 4 )\n",
        "    for peak in r_peaks[init_window:init_window + peaks_window]:\n",
        "        if peak - init_seg < 0:\n",
        "            segment = filtered_ecg[0:peak + fin_seg]\n",
        "        else:\n",
        "            segment = filtered_ecg[peak - init_seg:peak + fin_seg]\n",
        "        all_segments.append(segment[:, np.newaxis])\n",
        "\n",
        "    if all_segments[0].shape[0] < all_segments[1].shape[0]:\n",
        "        zeros = np.zeros(int(all_segments[1].shape[0])-int(all_segments[0].shape[0]))[:, np.newaxis]\n",
        "        new_segment = np.concatenate((zeros, all_segments[0]))\n",
        "        all_segments[0] = new_segment\n",
        "    try:\n",
        "      ecm = np.concatenate(all_segments, 1)\n",
        "    except ValueError:\n",
        "      return None\n",
        "    return ecm.T"
      ]
    },
    {
      "cell_type": "code",
      "execution_count": 37,
      "metadata": {
        "id": "SB91uueH8qOs"
      },
      "outputs": [],
      "source": [
        "init_seg = int(0.2 * distance)\n",
        "fin_seg = int(1.5 * distance)"
      ]
    },
    {
      "cell_type": "code",
      "execution_count": 184,
      "metadata": {
        "id": "oOEjBFDR-nSJ"
      },
      "outputs": [],
      "source": [
        "# Defining start distance/delay which is the distance till first peak\n",
        "start_delay = peaks[0]"
      ]
    },
    {
      "cell_type": "code",
      "execution_count": 185,
      "metadata": {
        "id": "BGpC5Ep-Aeen"
      },
      "outputs": [],
      "source": [
        "sbf = 6\n",
        "bpf = 5\n",
        "one_EKM_signal_size = sbf * sampling_rate"
      ]
    },
    {
      "cell_type": "code",
      "execution_count": 186,
      "metadata": {
        "id": "IfiFvgADAtIq"
      },
      "outputs": [],
      "source": [
        "EKM_counter = 0\n",
        "one_EKM_norm_signal = norm_ecg[one_EKM_signal_size * EKM_counter : one_EKM_signal_size * (EKM_counter + 1)]"
      ]
    },
    {
      "cell_type": "code",
      "execution_count": 187,
      "metadata": {
        "colab": {
          "base_uri": "https://localhost:8080/"
        },
        "id": "giYFarSUBn0q",
        "outputId": "2f31e86b-a26f-4327-8e1c-6444c46a85a1"
      },
      "outputs": [
        {
          "data": {
            "text/plain": [
              "array([     2,    256,    494, ..., 299263, 299496, 299729])"
            ]
          },
          "execution_count": 187,
          "metadata": {},
          "output_type": "execute_result"
        }
      ],
      "source": [
        "peaks"
      ]
    },
    {
      "cell_type": "code",
      "execution_count": 188,
      "metadata": {
        "id": "oGv0qxREBe6W"
      },
      "outputs": [],
      "source": [
        "# Getting r peaks of one EKM (bpf + sbf)\n",
        "r_peaks_one_EKM = []\n",
        "for r_peak_ind in peaks:\n",
        "  lower_bound = one_EKM_signal_size * (EKM_counter)\n",
        "  upper_bound = one_EKM_signal_size * (EKM_counter + 1)\n",
        "  if r_peak_ind <= upper_bound and r_peak_ind >= lower_bound:\n",
        "    r_peaks_one_EKM.append(r_peak_ind)"
      ]
    },
    {
      "cell_type": "code",
      "execution_count": 189,
      "metadata": {
        "colab": {
          "base_uri": "https://localhost:8080/"
        },
        "id": "OHYA3opMHM4z",
        "outputId": "d73cae85-56eb-4da9-edf8-3e57c2a31058"
      },
      "outputs": [
        {
          "data": {
            "text/plain": [
              "[2, 256, 494, 744, 992]"
            ]
          },
          "execution_count": 189,
          "metadata": {},
          "output_type": "execute_result"
        }
      ],
      "source": [
        "r_peaks_one_EKM"
      ]
    },
    {
      "cell_type": "code",
      "execution_count": 190,
      "metadata": {
        "id": "tiHwhDsjFzd2"
      },
      "outputs": [],
      "source": [
        "defficient_peaks_flag = False\n",
        "if len(r_peaks_one_EKM) >= bpf:\n",
        "  r_peaks_one_EKM = r_peaks_one_EKM[0:bpf]\n",
        "else:\n",
        "  defficient_peaks_flag = True"
      ]
    },
    {
      "cell_type": "code",
      "execution_count": 191,
      "metadata": {
        "colab": {
          "base_uri": "https://localhost:8080/"
        },
        "id": "GgTYAjrPClDL",
        "outputId": "679a7230-919a-4b6c-c496-b1b809ef7858"
      },
      "outputs": [
        {
          "data": {
            "text/plain": [
              "[2, 256, 494, 744, 992]"
            ]
          },
          "execution_count": 191,
          "metadata": {},
          "output_type": "execute_result"
        }
      ],
      "source": [
        "r_peaks_one_EKM"
      ]
    },
    {
      "cell_type": "code",
      "execution_count": 192,
      "metadata": {
        "colab": {
          "base_uri": "https://localhost:8080/"
        },
        "id": "UWwUnrciGw3d",
        "outputId": "4def967b-399f-4ead-cb21-8fb919bbdae4"
      },
      "outputs": [
        {
          "data": {
            "text/plain": [
              "False"
            ]
          },
          "execution_count": 192,
          "metadata": {},
          "output_type": "execute_result"
        }
      ],
      "source": [
        "defficient_peaks_flag"
      ]
    },
    {
      "cell_type": "code",
      "execution_count": 193,
      "metadata": {
        "id": "Pth3qmH5-CA4"
      },
      "outputs": [],
      "source": [
        "all_segments = []\n",
        "\n",
        "for peak in r_peaks_one_EKM:\n",
        "  segment = norm_ecg[peak - start_delay : peak + fin_seg]\n",
        "  all_segments.append(segment)"
      ]
    },
    {
      "cell_type": "code",
      "execution_count": 194,
      "metadata": {
        "colab": {
          "base_uri": "https://localhost:8080/"
        },
        "id": "Jy8Se7uSFKYm",
        "outputId": "b8a0d0ed-6b16-4ae8-c04a-cced10c89677"
      },
      "outputs": [
        {
          "data": {
            "text/plain": [
              "5"
            ]
          },
          "execution_count": 194,
          "metadata": {},
          "output_type": "execute_result"
        }
      ],
      "source": [
        "len(all_segments)"
      ]
    },
    {
      "cell_type": "code",
      "execution_count": 195,
      "metadata": {
        "id": "8SiwzmFTGcrE"
      },
      "outputs": [],
      "source": [
        "norm_all_segments = normalize(all_segments)"
      ]
    },
    {
      "cell_type": "code",
      "execution_count": 196,
      "metadata": {
        "id": "3M5uKZWkKOkW"
      },
      "outputs": [],
      "source": [
        "# Zero padding when there are less r_peaks than bpf amount\n",
        "if defficient_peaks_flag == True:\n",
        "  zeros = np.zeros(len(segment))\n",
        "  norm_all_segments = np.vstack((norm_all_segments, zeros))"
      ]
    },
    {
      "cell_type": "code",
      "execution_count": 197,
      "metadata": {
        "colab": {
          "base_uri": "https://localhost:8080/",
          "height": 423
        },
        "id": "AliHFVJ-Ge24",
        "outputId": "1a8a24b0-f8a4-42c2-9127-344497e8411b"
      },
      "outputs": [
        {
          "data": {
            "text/plain": [
              "<Axes: >"
            ]
          },
          "execution_count": 197,
          "metadata": {},
          "output_type": "execute_result"
        },
        {
          "data": {
            "image/png": "[encoded data removed]",
            "text/plain": [
              "<Figure size 640x480 with 1 Axes>"
            ]
          },
          "metadata": {},
          "output_type": "display_data"
        }
      ],
      "source": [
        "sns.heatmap(norm_all_segments, xticklabels=False, yticklabels=False, cbar=False)"
      ]
    }
  ],
  "metadata": {
    "colab": {
      "provenance": []
    },
    "kernelspec": {
      "display_name": "Python 3",
      "name": "python3"
    },
    "language_info": {
      "name": "python"
    }
  },
  "nbformat": 4,
  "nbformat_minor": 0
}
