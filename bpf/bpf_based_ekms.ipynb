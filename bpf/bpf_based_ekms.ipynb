{
 "cells": [
  {
   "cell_type": "markdown",
   "metadata": {},
   "source": [
    "## Installation and Imports"
   ]
  },
  {
   "cell_type": "code",
   "execution_count": null,
   "metadata": {},
   "outputs": [],
   "source": [
    "! pip install biosignalsnotebooks\n",
    "\n",
    "! pip3 install ishneholterlib\n",
    "\n",
    "! wget http://thew-project.org/document/1-300mECG.zip\n",
    "! unzip /content/1-300mECG.zip"
   ]
  },
  {
   "cell_type": "code",
   "execution_count": null,
   "metadata": {},
   "outputs": [],
   "source": [
    "# Imports\n",
    "import numpy as np\n",
    "import matplotlib.pyplot as plt\n",
    "import biosignalsnotebooks as bsnb\n",
    "from scipy.signal import detrend\n",
    "import seaborn as sns"
   ]
  },
  {
   "cell_type": "code",
   "execution_count": null,
   "metadata": {},
   "outputs": [],
   "source": [
    "from ishneholterlib import Holter\n",
    "import numpy as np"
   ]
  },
  {
   "cell_type": "code",
   "execution_count": null,
   "metadata": {},
   "outputs": [],
   "source": [
    "import os\n",
    "from datetime import datetime"
   ]
  },
  {
   "cell_type": "code",
   "execution_count": null,
   "metadata": {},
   "outputs": [],
   "source": [
    "# Creating directories for different leads\n",
    "! mkdir EKM_dataset\n",
    "! mkdir EKM_dataset/x_lead\n",
    "! mkdir EKM_dataset/y_lead\n",
    "! mkdir EKM_dataset/z_lead"
   ]
  },
  {
   "cell_type": "code",
   "execution_count": null,
   "metadata": {},
   "outputs": [],
   "source": [
    "import shutil"
   ]
  },
  {
   "cell_type": "code",
   "execution_count": null,
   "metadata": {},
   "outputs": [],
   "source": [
    "# Connecting to google\n",
    "from google.colab import drive\n",
    "drive.mount('/content/drive')"
   ]
  },
  {
   "cell_type": "code",
   "execution_count": null,
   "metadata": {},
   "outputs": [],
   "source": [
    "len(os.listdir(\"/content/drive/MyDrive/ECG project/ECG_200\"))"
   ]
  },
  {
   "cell_type": "markdown",
   "metadata": {},
   "source": [
    "## Initial variables (codes for different status)"
   ]
  },
  {
   "cell_type": "code",
   "execution_count": null,
   "metadata": {},
   "outputs": [],
   "source": [
    "# default values for fields that may be set/edited by the user\n",
    "header_field_defaults = {\n",
    "    'file_version':  -9,\n",
    "    'first_name':    '',\n",
    "    'last_name':     '',\n",
    "    'id':            '',\n",
    "    'sex':           0,\n",
    "    'race':          0,\n",
    "    'birth_date':    None,\n",
    "    'pm':            -9,\n",
    "    'recorder_type': '',  # TODO?: 'unknown'\n",
    "    'proprietary':   '',\n",
    "    'copyright':     '',\n",
    "    'reserved':      '',\n",
    "    'var_block':     ''\n",
    "}\n",
    "\n",
    "# numeric codes from Table 1 of ISHNE Holter spec\n",
    "lead_specs = {\n",
    "    -9: 'absent', 0: 'unknown', 1: 'generic',\n",
    "    2: 'X',    3: 'Y',    4: 'Z',\n",
    "    5: 'I',    6: 'II',   7: 'III',\n",
    "    8: 'aVR',  9: 'aVL', 10: 'aVF',\n",
    "    11: 'V1', 12: 'V2',  13: 'V3',\n",
    "    14: 'V4', 15: 'V5',  16: 'V6',\n",
    "    17: 'ES', 18: 'AS',  19: 'AI'\n",
    "}\n",
    "\n",
    "# numeric codes from Table 2 of ISHNE Holter spec\n",
    "lead_qualities = {\n",
    "    -9: 'absent',\n",
    "    0: 'unknown',\n",
    "    1: 'good',\n",
    "    2: 'intermittent noise',\n",
    "    3: 'frequent noise',\n",
    "    4: 'intermittent disconnect',\n",
    "    5: 'frequent disconnect'\n",
    "}\n",
    "\n",
    "# type of pacemaker\n",
    "pm_codes = {\n",
    "    0: 'none',  # i.e. no PM installed.  so -9 should be used for unknown.\n",
    "    1: 'unknown type',\n",
    "    2: 'single chamber unipolar',\n",
    "    3: 'dual chamber unipolar',\n",
    "    4: 'single chamber bipolar',\n",
    "    5: 'dual chamber bipolar',\n",
    "}\n",
    "\n",
    "gender_codes = {\n",
    "    0: None,  # unknown\n",
    "    1: 'M',\n",
    "    2: 'F'\n",
    "}\n",
    "\n",
    "# race codes.  other values (e.g. 4+) may also be used, but weren't in the initial spec\n",
    "race_codes = {\n",
    "    0: None,  # unknown\n",
    "    1: 'caucasian',\n",
    "    2: 'black',\n",
    "    3: 'oriental',\n",
    "}"
   ]
  },
  {
   "cell_type": "code",
   "execution_count": null,
   "metadata": {},
   "outputs": [],
   "source": [
    "# Load a file from disk:\n",
    "all_data = Holter('/content/1-300m.ecg')\n",
    "all_data.load_data()"
   ]
  },
  {
   "cell_type": "code",
   "execution_count": null,
   "metadata": {},
   "outputs": [],
   "source": [
    "x_lead = all_data.lead[0]\n",
    "y_lead = all_data.lead[1]\n",
    "z_lead = all_data.lead[2]\n"
   ]
  },
  {
   "cell_type": "code",
   "execution_count": null,
   "metadata": {},
   "outputs": [],
   "source": [
    "x_lead.data"
   ]
  },
  {
   "cell_type": "markdown",
   "metadata": {},
   "source": [
    "## Preprocessing by pan tompkins algorithm"
   ]
  },
  {
   "cell_type": "code",
   "execution_count": null,
   "metadata": {},
   "outputs": [],
   "source": [
    "def process_ecg(unfiltered_ecg, fs):\n",
    "    # Step 1 of Pan-Tompkins Algorithm - ECG Filtering (Bandpass between 5 and 15 Hz)\n",
    "    filtered_signal = bsnb.detect._ecg_band_pass_filter(unfiltered_ecg, fs)\n",
    "    # Step 2 of Pan-Tompkins Algorithm - ECG Differentiation\n",
    "    differentiated_signal = np.diff(filtered_signal)\n",
    "    # Step 3 of Pan-Tompkins Algorithm - ECG Rectification\n",
    "    squared_signal = differentiated_signal * differentiated_signal\n",
    "    # Step 4 of Pan-Tompkins Algorithm - ECG Integration ( Moving window integration )\n",
    "    nbr_sampls_int_wind = int(0.080 * fs)\n",
    "    integrated_signal = np.zeros_like(squared_signal)\n",
    "    cumulative_sum = squared_signal.cumsum()\n",
    "    integrated_signal[nbr_sampls_int_wind:] = (cumulative_sum[nbr_sampls_int_wind:] - cumulative_sum[\n",
    "                                                                                      :-nbr_sampls_int_wind]) / nbr_sampls_int_wind\n",
    "    integrated_signal[:nbr_sampls_int_wind] = cumulative_sum[:nbr_sampls_int_wind] / np.arange(1, nbr_sampls_int_wind + 1)\n",
    "    # Initialisation of the R peak detection algorithm\n",
    "    rr_buffer, signal_peak_1, noise_peak_1, threshold = bsnb.detect._buffer_ini(integrated_signal, fs)\n",
    "    # Detection of possible and probable R peaks\n",
    "    probable_peaks, possible_peaks = bsnb.detect._detects_peaks(integrated_signal, fs)\n",
    "    # Identification of definitive R peaks\n",
    "    definitive_peaks = bsnb.detect._checkup(probable_peaks, integrated_signal, fs, rr_buffer, signal_peak_1,\n",
    "                                            noise_peak_1, threshold)\n",
    "    # Conversion to integer type.\n",
    "    definitive_peaks = np.array(list(map(int, definitive_peaks)))\n",
    "    # Correcting step\n",
    "    map_integers = definitive_peaks - 40 * (fs / 1000)\n",
    "    definitive_peaks_reph = np.array(list(map(int, map_integers)))\n",
    "    return definitive_peaks_reph, filtered_signal"
   ]
  },
  {
   "cell_type": "code",
   "execution_count": null,
   "metadata": {},
   "outputs": [],
   "source": [
    "# Normalizing method\n",
    "def normalize(signal):\n",
    "    a, b = -1, 1\n",
    "    c = b - a\n",
    "    aux = (signal - np.min(signal)) / (np.max(signal) - np.min(signal))\n",
    "    norm_ecg = c * aux + a\n",
    "    return norm_ecg"
   ]
  },
  {
   "cell_type": "code",
   "execution_count": null,
   "metadata": {},
   "outputs": [],
   "source": [
    "# Calculates the mean distance between all peaks for each user\n",
    "def peak_distance(r_peaks):\n",
    "    dist = []\n",
    "    for i in range(len(r_peaks)):\n",
    "        if r_peaks[i] == r_peaks[-1]:\n",
    "            break\n",
    "        distance = r_peaks[i + 1] - r_peaks[i]\n",
    "        if i == 0:\n",
    "            dist.append(distance)\n",
    "            continue\n",
    "        if distance > np.mean(dist) + np.std(dist) * 2:\n",
    "            continue\n",
    "        else:\n",
    "            dist.append(distance)\n",
    "    return np.mean(dist)"
   ]
  },
  {
   "cell_type": "code",
   "execution_count": null,
   "metadata": {},
   "outputs": [],
   "source": [
    "def electrocardiomatrix(distance, r_peaks, filtered_ecg, init_window, peaks_window):\n",
    "    init_seg = int(0.2 * distance)\n",
    "    fin_seg = int(1.5 * distance)\n",
    "    all_segments = []\n",
    "    for peak in r_peaks[init_window:init_window + peaks_window]:\n",
    "        if peak - init_seg < 0:\n",
    "            segment = filtered_ecg[0:peak + fin_seg]\n",
    "        else:\n",
    "            segment = filtered_ecg[peak - init_seg:peak + fin_seg]\n",
    "        all_segments.append(segment[:,np.newaxis])\n",
    "    if all_segments[0].shape[0] < all_segments[1].shape[0]:\n",
    "        zeros = np.zeros(int(all_segments[1].shape[0])-int(all_segments[0].shape[0]))[:, np.newaxis]\n",
    "        new_segment = np.concatenate((zeros, all_segments[0]))\n",
    "        all_segments[0] = new_segment\n",
    "    try:\n",
    "      ecm = np.concatenate(all_segments, 1)\n",
    "    except ValueError:\n",
    "      return None\n",
    "    return ecm.T"
   ]
  },
  {
   "cell_type": "code",
   "execution_count": null,
   "metadata": {},
   "outputs": [],
   "source": [
    "# Labeling is in this way that, prelast element of EKM's name is the user's id,\n",
    "# and the last element is the number of the EKM for that user\n",
    "\n",
    "def save_ecm(dataset_name, path, key, i):\n",
    "    # Saving EKMs in format of {path}/_NumberOfbpfsInAEKM_bpf-ekm-{key=user id}-{i=serial Number}\n",
    "    plt.savefig(f\"{path}/10bpf-ekm-{dataset_name}-{key}-{str(i)}\",bbox_inches='tight', pad_inches=0)"
   ]
  },
  {
   "cell_type": "code",
   "execution_count": null,
   "metadata": {},
   "outputs": [],
   "source": [
    "def little_ekm_dataset(lead_data, sampling_rate, dataset_name, ekms_path, key):\n",
    "  print(\"  .Preprocessing the signal\")\n",
    "  peaks, filtered_ecg = process_ecg(lead_data , sampling_rate)\n",
    "\n",
    "  print(\"  .Getting detrend_signal, norm_ecg, distance\")\n",
    "  detrend_signal = detrend(filtered_ecg)\n",
    "  norm_ecg = normalize(detrend_signal)\n",
    "  distance = peak_distance(peaks)\n",
    "\n",
    "  # by fs=200, 2 seconds will be 10 bpf\n",
    "  # bpf => 2(s) / 200 * 0.001\n",
    "  bpf = 10\n",
    "  peaks_window = bpf-1\n",
    "  data_obtained = []\n",
    "  distances = []\n",
    "  negative = True\n",
    "  ekms_counter, init_window = 0, 0\n",
    "  total_ecms = 3000\n",
    "\n",
    "  fig_width_px = 33\n",
    "  fig_height_px = 21\n",
    "\n",
    "  print(\"  .Getting EKMs\")\n",
    "  while(ekms_counter<total_ecms):\n",
    "    if (init_window >= len(peaks)) or (init_window >= len(peaks)-1): break\n",
    "    ecm = electrocardiomatrix(distance, peaks, norm_ecg, init_window, peaks_window)\n",
    "    if ecm is None: break\n",
    "    distance = int(distance)\n",
    "    norm_ecm = normalize(ecm)\n",
    "\n",
    "    fig = plt.figure(num=1, clear=True, figsize=(fig_width_px / 80, fig_height_px / 80))\n",
    "    ax = fig.add_subplot()\n",
    "    ax.axis('off')\n",
    "\n",
    "    sns.heatmap(norm_ecm, xticklabels=False, yticklabels=False, cbar=False)\n",
    "    # plt.tight_layout()\n",
    "\n",
    "    save_ecm(dataset_name, ekms_path, key, ekms_counter)\n",
    "    init_window += bpf\n",
    "    ekms_counter += 1\n",
    "    # break"
   ]
  },
  {
   "cell_type": "code",
   "execution_count": null,
   "metadata": {},
   "outputs": [],
   "source": [
    "def big_ekm_dataset(lead_data, sampling_rate, dataset_name, ekms_path, key):\n",
    "  print(\"  .Preprocessing the signal\")\n",
    "  peaks, filtered_ecg = process_ecg(lead_data , sampling_rate)\n",
    "\n",
    "  print(\"  .Getting detrend_signal, norm_ecg, distance\")\n",
    "  detrend_signal = detrend(filtered_ecg)\n",
    "  norm_ecg = normalize(detrend_signal)\n",
    "  distance = peak_distance(peaks)\n",
    "\n",
    "  # by fs=200, 2 seconds will be 10 bpf\n",
    "  # bpf => 2(s) / 200 * 0.001\n",
    "  bpf = 10\n",
    "  peaks_window = bpf-1\n",
    "  data_obtained = []\n",
    "  distances = []\n",
    "  negative = True\n",
    "  ekms_counter, init_window = 0, 0\n",
    "  total_ecms = 3000\n",
    "\n",
    "  print(\"  .Getting EKMs\")\n",
    "  while(ekms_counter<total_ecms):\n",
    "    if (init_window >= len(peaks)) or (init_window >= len(peaks)-1): break\n",
    "    ecm = electrocardiomatrix(distance, peaks, norm_ecg, init_window, peaks_window)\n",
    "    if ecm is None: break\n",
    "    distance = int(distance)\n",
    "    norm_ecm = normalize(ecm)\n",
    "\n",
    "    sns.heatmap(norm_ecm, xticklabels=False, yticklabels=False, cbar=False)\n",
    "    # plt.tight_layout()\n",
    "\n",
    "    save_ecm(dataset_name, ekms_path, key, ekms_counter)\n",
    "    init_window += bpf\n",
    "    ekms_counter += 1\n",
    "    # break"
   ]
  },
  {
   "cell_type": "code",
   "execution_count": null,
   "metadata": {},
   "outputs": [],
   "source": [
    "def pretier_print(pos, userNumber, usr_ecg_file_name):\n",
    "  if pos == \"begin\":\n",
    "    [print(\"-\", end=\"\") for i in range(30)]\n",
    "    print(\"\")\n",
    "    print(datetime.now().strftime('%Y-%m-%d %H:%M:%S'))\n",
    "    print(f\"-> User No.{userNumber}\")\n",
    "    print(\"\")\n",
    "    print(usr_ecg_file_name)\n",
    "\n",
    "  if pos == \"end\":\n",
    "    print(\"\")\n",
    "    print(datetime.now().strftime('%Y-%m-%d %H:%M:%S'))\n",
    "    print(\"\")"
   ]
  },
  {
   "cell_type": "markdown",
   "metadata": {},
   "source": [
    "### Little EKMs dataset"
   ]
  },
  {
   "cell_type": "markdown",
   "metadata": {},
   "source": [
    "#### Main dataset"
   ]
  },
  {
   "cell_type": "code",
   "execution_count": null,
   "metadata": {},
   "outputs": [],
   "source": [
    "dataset_path = \"/content/drive/MyDrive/ECG project/ECG_200\"\n",
    "users_files = os.listdir(dataset_path)\n",
    "users_files.remove(\"clinicalData-selected\")\n",
    "len(users_files)"
   ]
  },
  {
   "cell_type": "code",
   "execution_count": null,
   "metadata": {},
   "outputs": [],
   "source": [
    "users_files[:10]"
   ]
  },
  {
   "cell_type": "code",
   "execution_count": null,
   "metadata": {},
   "outputs": [],
   "source": [
    "# Getting .ecg files of users\n",
    "users_ecg_files = []\n",
    "for _file in users_files:\n",
    "  f_extention = _file.split(\".\")[1]\n",
    "  if f_extention == \"ecg\":\n",
    "    users_ecg_files.append(_file)"
   ]
  },
  {
   "cell_type": "code",
   "execution_count": null,
   "metadata": {},
   "outputs": [],
   "source": [
    "# Initialization of dataset extracting processing\n",
    "sampling_rate = all_data.sr\n",
    "dataset_name = \"main_ekm_dataset\"\n",
    "base_ekms_path = f'EKM_dataset'\n",
    "\n",
    "lead_names_dict = {\n",
    "    1: \"x_lead\",\n",
    "    2: \"y_lead\",\n",
    "    3: \"z_lead\"\n",
    "}"
   ]
  },
  {
   "cell_type": "code",
   "execution_count": null,
   "metadata": {},
   "outputs": [],
   "source": [
    "def user_EKMs_dir_creator():\n",
    "  # Removing previous EKM dir and creating new one\n",
    "  ! rm -r EKM_dataset/\n",
    "  ! mkdir EKM_dataset\n",
    "  ! mkdir EKM_dataset/x_lead\n",
    "  ! mkdir EKM_dataset/y_lead\n",
    "  ! mkdir EKM_dataset/z_lead"
   ]
  },
  {
   "cell_type": "code",
   "execution_count": null,
   "metadata": {},
   "outputs": [],
   "source": [
    "# Getting EKMs of each lead of users from .ecg files\n",
    "for ecg_file in users_ecg_files:\n",
    "  user_EKMs_dir_creator()\n",
    "\n",
    "  ecg_file_path = dataset_path + \"/\" + ecg_file\n",
    "  user_leads_all_data = Holter(ecg_file_path)\n",
    "  user_leads_all_data.load_data()\n",
    "\n",
    "  x_lead = user_leads_all_data.lead[0]\n",
    "  y_lead = user_leads_all_data.lead[1]\n",
    "  z_lead = user_leads_all_data.lead[2]\n",
    "\n",
    "  user_leads_signals = [x_lead, y_lead, z_lead]\n",
    "  user_id = ecg_file.split(\".\")[0]\n",
    "  sampling_rate = user_leads_all_data.sr\n",
    "\n",
    "  for _, lead_data in enumerate(user_leads_signals):\n",
    "    name_of_file = ecg_file + \": \" + lead_names_dict[_ + 1]\n",
    "    pretier_print(\"begin\", int(user_id), name_of_file)\n",
    "\n",
    "    lead_path = base_ekms_path + \"/\" + lead_names_dict[_ + 1]\n",
    "    little_ekm_dataset(lead_data.data, sampling_rate, dataset_name, lead_path, user_id)\n",
    "\n",
    "    pretier_print(\"end\", int(user_id), ecg_file)\n",
    "\n",
    "  shutil.make_archive(user_id, format='zip', root_dir='/content/EKM_dataset')\n",
    "  source_file_path = f\"/content/{user_id}.zip\"\n",
    "  destination_directory = f\"/content/drive/MyDrive/ECG project/IMD project/{user_id}.zip\"\n",
    "  shutil.move(source_file_path, destination_directory)"
   ]
  }
 ],
 "metadata": {
  "language_info": {
   "name": "python"
  }
 },
 "nbformat": 4,
 "nbformat_minor": 2
}
